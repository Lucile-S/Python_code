{
 "cells": [
  {
   "cell_type": "markdown",
   "metadata": {},
   "source": [
    "# K-means from Scratch\n",
   
   ]
  },
  {
   "cell_type": "code",
   "execution_count": 1,
   "metadata": {},
   "outputs": [],
   "source": [
    "import pandas as pd\n",
    "import numpy as np\n",
    "import seaborn as sns\n",
    "import random\n",
    "import matplotlib.pyplot as plt\n",
    "from IPython.core.interactiveshell import InteractiveShell\n",
    "InteractiveShell.ast_node_interactivity = \"all\""
   ]
  },
  {
   "cell_type": "markdown",
   "metadata": {},
   "source": [
    "## Some data to test"
   ]
  },
  {
   "cell_type": "code",
   "execution_count": 2,
   "metadata": {},
   "outputs": [
    {
     "data": {
      "text/plain": [
       "(1000, 2)"
      ]
     },
     "execution_count": 2,
     "metadata": {},
     "output_type": "execute_result"
    },
    {
     "data": {
      "text/html": [
       "<div>\n",
       "<style scoped>\n",
       "    .dataframe tbody tr th:only-of-type {\n",
       "        vertical-align: middle;\n",
       "    }\n",
       "\n",
       "    .dataframe tbody tr th {\n",
       "        vertical-align: top;\n",
       "    }\n",
       "\n",
       "    .dataframe thead th {\n",
       "        text-align: right;\n",
       "    }\n",
       "</style>\n",
       "<table border=\"1\" class=\"dataframe\">\n",
       "  <thead>\n",
       "    <tr style=\"text-align: right;\">\n",
       "      <th></th>\n",
       "      <th>normalized_age</th>\n",
       "      <th>normalized_salary</th>\n",
       "    </tr>\n",
       "  </thead>\n",
       "  <tbody>\n",
       "    <tr>\n",
       "      <td>0</td>\n",
       "      <td>0.680267</td>\n",
       "      <td>-0.016342</td>\n",
       "    </tr>\n",
       "    <tr>\n",
       "      <td>1</td>\n",
       "      <td>3.809518</td>\n",
       "      <td>0.798483</td>\n",
       "    </tr>\n",
       "    <tr>\n",
       "      <td>2</td>\n",
       "      <td>-1.661372</td>\n",
       "      <td>-0.577667</td>\n",
       "    </tr>\n",
       "    <tr>\n",
       "      <td>3</td>\n",
       "      <td>-0.257307</td>\n",
       "      <td>-0.155552</td>\n",
       "    </tr>\n",
       "    <tr>\n",
       "      <td>4</td>\n",
       "      <td>0.698017</td>\n",
       "      <td>0.174561</td>\n",
       "    </tr>\n",
       "  </tbody>\n",
       "</table>\n",
       "</div>"
      ],
      "text/plain": [
       "   normalized_age  normalized_salary\n",
       "0        0.680267          -0.016342\n",
       "1        3.809518           0.798483\n",
       "2       -1.661372          -0.577667\n",
       "3       -0.257307          -0.155552\n",
       "4        0.698017           0.174561"
      ]
     },
     "execution_count": 2,
     "metadata": {},
     "output_type": "execute_result"
    },
    {
     "data": {
      "text/plain": [
       "(1000, 2)"
      ]
     },
     "execution_count": 2,
     "metadata": {},
     "output_type": "execute_result"
    },
    {
     "name": "stdout",
     "output_type": "stream",
     "text": [
      "<class 'pandas.core.frame.DataFrame'>\n",
      "Int64Index: 1000 entries, 0 to 999\n",
      "Data columns (total 2 columns):\n",
      "normalized_age       1000 non-null float64\n",
      "normalized_salary    1000 non-null float64\n",
      "dtypes: float64(2)\n",
      "memory usage: 23.4 KB\n"
     ]
    },
    {
     "data": {
      "text/html": [
       "<div>\n",
       "<style scoped>\n",
       "    .dataframe tbody tr th:only-of-type {\n",
       "        vertical-align: middle;\n",
       "    }\n",
       "\n",
       "    .dataframe tbody tr th {\n",
       "        vertical-align: top;\n",
       "    }\n",
       "\n",
       "    .dataframe thead th {\n",
       "        text-align: right;\n",
       "    }\n",
       "</style>\n",
       "<table border=\"1\" class=\"dataframe\">\n",
       "  <thead>\n",
       "    <tr style=\"text-align: right;\">\n",
       "      <th></th>\n",
       "      <th>normalized_age</th>\n",
       "      <th>normalized_salary</th>\n",
       "    </tr>\n",
       "  </thead>\n",
       "  <tbody>\n",
       "    <tr>\n",
       "      <td>count</td>\n",
       "      <td>1000.000000</td>\n",
       "      <td>1000.000000</td>\n",
       "    </tr>\n",
       "    <tr>\n",
       "      <td>mean</td>\n",
       "      <td>-3.013713</td>\n",
       "      <td>1.500108</td>\n",
       "    </tr>\n",
       "    <tr>\n",
       "      <td>std</td>\n",
       "      <td>3.242532</td>\n",
       "      <td>1.604930</td>\n",
       "    </tr>\n",
       "    <tr>\n",
       "      <td>min</td>\n",
       "      <td>-8.096229</td>\n",
       "      <td>-1.190175</td>\n",
       "    </tr>\n",
       "    <tr>\n",
       "      <td>25%</td>\n",
       "      <td>-5.971419</td>\n",
       "      <td>-0.016512</td>\n",
       "    </tr>\n",
       "    <tr>\n",
       "      <td>50%</td>\n",
       "      <td>-4.317377</td>\n",
       "      <td>1.138382</td>\n",
       "    </tr>\n",
       "    <tr>\n",
       "      <td>75%</td>\n",
       "      <td>-0.059299</td>\n",
       "      <td>2.983284</td>\n",
       "    </tr>\n",
       "    <tr>\n",
       "      <td>max</td>\n",
       "      <td>4.690904</td>\n",
       "      <td>4.850055</td>\n",
       "    </tr>\n",
       "  </tbody>\n",
       "</table>\n",
       "</div>"
      ],
      "text/plain": [
       "       normalized_age  normalized_salary\n",
       "count     1000.000000        1000.000000\n",
       "mean        -3.013713           1.500108\n",
       "std          3.242532           1.604930\n",
       "min         -8.096229          -1.190175\n",
       "25%         -5.971419          -0.016512\n",
       "50%         -4.317377           1.138382\n",
       "75%         -0.059299           2.983284\n",
       "max          4.690904           4.850055"
      ]
     },
     "execution_count": 2,
     "metadata": {},
     "output_type": "execute_result"
    }
   ],
   "source": [
    "df = pd.read_csv('dataset_1.csv',index_col=0)\n",
    "df.shape\n",
    "df.head()\n",
    "df.shape\n",
    "df.info()\n",
    "df.describe()"
   ]
  },
  {
   "cell_type": "markdown",
   "metadata": {},
   "source": [
    "## step 1 : initialize centroids"
   ]
  },
  {
   "cell_type": "code",
   "execution_count": 3,
   "metadata": {},
   "outputs": [],
   "source": [
    "def InitCentroids(X,K):\n",
    "    \"\"\"\n",
    "    This function initializes K centroids that are to be used in K-means on the dataset X\n",
    "    It returns centroids=InitCentroids(X,K) ; a (K x n) matrix of centroid positions\n",
    "    \"\"\"\n",
    "    # size of X : m = # examples ; n = # features\n",
    "    m,n= X.shape[0], X.shape[1]\n",
    "    \n",
    "    # initialize the centroid array to 0\n",
    "    centroids=np.zeros((K,n))\n",
    "    \n",
    "    # Ramdomly choose K examples from X\n",
    "    for i in range(K):\n",
    "        centroids[i] = X[np.random.randint(0,m+1),:]\n",
    "        \n",
    "    return centroids"
   ]
  },
  {
   "cell_type": "code",
   "execution_count": null,
   "metadata": {},
   "outputs": [],
   "source": [
    "centroids"
   ]
  },
  {
   "cell_type": "markdown",
   "metadata": {},
   "source": [
    "## Step 2 : Cluster Assignment  : Find closest centroid for each examples "
   ]
  },
  {
   "cell_type": "code",
   "execution_count": 11,
   "metadata": {},
   "outputs": [],
   "source": [
    "def FindClosestCentroids(X,centroids):\n",
    "    \"\"\"\n",
    "    This function computes the centroid memberships for every example.\n",
    "    Returns idx = FindClosestCentroids(X,centroids) ; the index of the closest centroids \n",
    "    in idx for a dataset X where each row is a single example.\n",
    "    \"\"\"\n",
    "    \n",
    "    # Set  m, n and K \n",
    "    m,n= X.shape[0], X.shape[1]\n",
    "    K = centroids.shape[0]\n",
    "    \n",
    "    # initialize idx , it will contains the index of the closest centroid\n",
    "    idx=np.zeros((m,1))\n",
    "    \n",
    "    # loop over every examples to calculate the distance with every centroid\n",
    "    for i,example in zip(range(m),X):\n",
    "        \n",
    "        #dist will contains the dist from every centroids for the example i\n",
    "        dist_i=[]\n",
    "        \n",
    "        # loop over every centroid\n",
    "        for centroid in centroids:\n",
    "            \n",
    "            # calcul the distance \n",
    "            dist_i.append(np.linalg.norm(example-centroid))\n",
    "            \n",
    "        # np.argmin find the index with the smallest distance and assign it to the training example\n",
    "        #print(np.argmin(dist_i))\n",
    "        idx[i]=np.argmin(dist_i)\n",
    "        #print('---------')\n",
    "    return idx"
   ]
  },
  {
   "cell_type": "markdown",
   "metadata": {},
   "source": [
    "## Step 3 : Compute the new centroid positions"
   ]
  },
  {
   "cell_type": "code",
   "execution_count": 17,
   "metadata": {},
   "outputs": [],
   "source": [
    "def ComputeCentroids(X,idx,K):\n",
    "    \"\"\"\n",
    "    This function computes the  new  centroid  positions by computing the means of the data points\n",
    "    assigned to each centroid\n",
    "    returns centroids = ComputeCentroids(X,idx,K)\n",
    "    \"\"\"\n",
    "    # Set  m, n and centroids\n",
    "    m,n= X.shape[0], X.shape[1]\n",
    "    centroids=np.zeros((K,n))\n",
    "    count = np.zeros((K,1))\n",
    "    print(centroids.shape)\n",
    "    \n",
    "    for i in range(m):\n",
    "        index = int((idx[i])[0])\n",
    "        #print(index)\n",
    "        #print(centroids[index,:])\n",
    "        #print(X[i,:])\n",
    "        centroids[index,:]+=X[i,:]\n",
    "        count[index]+=1\n",
    "    return centroids/count\n"
   ]
  },
  {
   "cell_type": "markdown",
   "metadata": {},
   "source": [
    "## step 4 : Run Kmean with a while do stop when centroids don't move any more"
   ]
  },
  {
   "cell_type": "code",
   "execution_count": 18,
   "metadata": {},
   "outputs": [],
   "source": [
    "def runKmeans(X,K,max_iter):\n",
    "    \"\"\"\n",
    "    runs the K-means algorithm on data matrix X, where eah row of X is a single example\n",
    "    [initial_centroids, centroids, idx]=runKmeans(X,K,max_iter,plot_progress)\n",
    "    \"\"\"\n",
    "    \n",
    "    #######################\n",
    "    ## initialize values ##\n",
    "    ######################\n",
    "    m,n= X.shape[0], X.shape[1]\n",
    "    initial_centroids=InitCentroids(X,K)\n",
    "    \n",
    "    centroids=initial_centroids\n",
    "    \n",
    "    previous_centroids=centroids\n",
    "\n",
    "    epsilon = 1 \n",
    "    iter_count = 1\n",
    "    \n",
    "    ######################\n",
    "    ##   Run Kmeans     ##\n",
    "    ######################\n",
    "    while epsilon !=0 or iter_count != max_iter :\n",
    "    \n",
    "        # For each example in X, assign it to the closest centroid\n",
    "        idx = FindClosestCentroids(X,centroids)\n",
    "        \n",
    "        # Given the memberships, compute new centroids\n",
    "        centroids  = ComputeCentroids(X,idx,K)\n",
    "        \n",
    "        \n",
    "        epsilon = np.array([b_elt - a_elt for a_elt, b_elt in zip(centroids, previous_centroids)]).sum()\n",
    "        print(epsilon)\n",
    "        previous_centroids=centroids\n",
    "        iter_count+=1\n",
    "    return initial_centroids, centroids, idx\n",
    "    \n"
   ]
  },
  {
   "cell_type": "code",
   "execution_count": 19,
   "metadata": {},
   "outputs": [
    {
     "name": "stdout",
     "output_type": "stream",
     "text": [
      "(2, 2)\n",
      "-4.242122465287125\n",
      "(2, 2)\n",
      "-0.7975569250763048\n",
      "(2, 2)\n",
      "-0.0364700716700754\n",
      "(2, 2)\n",
      "0.0\n",
      "(2, 2)\n",
      "0.0\n",
      "(2, 2)\n",
      "0.0\n",
      "(2, 2)\n",
      "0.0\n",
      "(2, 2)\n",
      "0.0\n",
      "(2, 2)\n",
      "0.0\n"
     ]
    }
   ],
   "source": [
    "X=np.array(df)\n",
    "K=2\n",
    "max_iter=10\n",
    "initial_centroids, centroids, idx=runKmeans(X,K,max_iter)"
   ]
  },
  {
   "cell_type": "code",
   "execution_count": 21,
   "metadata": {},
   "outputs": [
    {
     "data": {
      "text/plain": [
       "array([[-6.7030259 ,  2.30126579],\n",
       "       [-5.38629126,  1.72116204]])"
      ]
     },
     "execution_count": 21,
     "metadata": {},
     "output_type": "execute_result"
    }
   ],
   "source": [
    "initial_centroids"
   ]
  },
  {
   "cell_type": "code",
   "execution_count": 22,
   "metadata": {},
   "outputs": [
    {
     "data": {
      "text/plain": [
       "array([[-5.96950743,  2.95455118],\n",
       "       [ 0.01388187,  0.01033452]])"
      ]
     },
     "execution_count": 22,
     "metadata": {},
     "output_type": "execute_result"
    }
   ],
   "source": [
    "centroids"
   ]
  },
  {
   "cell_type": "code",
   "execution_count": null,
   "metadata": {},
   "outputs": [],
   "source": []
  }
 ],
 "metadata": {
  "kernelspec": {
   "display_name": "Python 3",
   "language": "python",
   "name": "python3"
  },
  "language_info": {
   "codemirror_mode": {
    "name": "ipython",
    "version": 3
   },
   "file_extension": ".py",
   "mimetype": "text/x-python",
   "name": "python",
   "nbconvert_exporter": "python",
   "pygments_lexer": "ipython3",
   "version": "3.7.4"
  },
  "toc": {
   "base_numbering": 1,
   "nav_menu": {},
   "number_sections": true,
   "sideBar": true,
   "skip_h1_title": false,
   "title_cell": "Table of Contents",
   "title_sidebar": "Contents",
   "toc_cell": false,
   "toc_position": {},
   "toc_section_display": true,
   "toc_window_display": false
  },
  "varInspector": {
   "cols": {
    "lenName": 16,
    "lenType": 16,
    "lenVar": 40
   },
   "kernels_config": {
    "python": {
     "delete_cmd_postfix": "",
     "delete_cmd_prefix": "del ",
     "library": "var_list.py",
     "varRefreshCmd": "print(var_dic_list())"
    },
    "r": {
     "delete_cmd_postfix": ") ",
     "delete_cmd_prefix": "rm(",
     "library": "var_list.r",
     "varRefreshCmd": "cat(var_dic_list()) "
    }
   },
   "types_to_exclude": [
    "module",
    "function",
    "builtin_function_or_method",
    "instance",
    "_Feature"
   ],
   "window_display": false
  }
 },
 "nbformat": 4,
 "nbformat_minor": 2
}
